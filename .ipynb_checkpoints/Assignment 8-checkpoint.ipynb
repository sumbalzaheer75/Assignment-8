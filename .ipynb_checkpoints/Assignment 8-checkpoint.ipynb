{
 "cells": [
  {
   "cell_type": "code",
   "execution_count": 1,
   "id": "4a3a3548-8810-4573-8eb1-c47b5475f8f7",
   "metadata": {},
   "outputs": [],
   "source": [
    "import csv"
   ]
  },
  {
   "cell_type": "code",
   "execution_count": 3,
   "id": "317d1edf-5291-4132-8106-4ce7bcab0393",
   "metadata": {},
   "outputs": [
    {
     "data": {
      "text/plain": [
       "<_io.TextIOWrapper name='student data.csv' mode='r' encoding='cp1252'>"
      ]
     },
     "execution_count": 3,
     "metadata": {},
     "output_type": "execute_result"
    }
   ],
   "source": [
    "open_file = open('student data.csv', mode = 'r')\n",
    "open_file"
   ]
  },
  {
   "cell_type": "code",
   "execution_count": 5,
   "id": "f192d179-61be-4d7b-80f1-da7b9e05819b",
   "metadata": {},
   "outputs": [
    {
     "data": {
      "text/plain": [
       "<_csv.reader at 0x297b9938c40>"
      ]
     },
     "execution_count": 5,
     "metadata": {},
     "output_type": "execute_result"
    }
   ],
   "source": [
    "read = csv.reader(open_file)\n",
    "read"
   ]
  },
  {
   "cell_type": "code",
   "execution_count": 7,
   "id": "29424cb9-507f-47d6-befb-fdde45016585",
   "metadata": {},
   "outputs": [
    {
     "data": {
      "text/plain": [
       "[['roll no', 'Name', 'Chemistry', 'Physics', 'Math'],\n",
       " ['101', 'Aliza', '50', '23', '87'],\n",
       " ['102', 'Fareed', '45', '24', '88'],\n",
       " ['103', 'Basit', '46', '25', '89'],\n",
       " ['104', 'Abdullah', '47', '26', '90'],\n",
       " ['105', 'Ali', '48', '27', '67'],\n",
       " ['106', 'Mubashir', '49', '28', '68'],\n",
       " ['107', 'Waleed', '50', '29', '69'],\n",
       " ['108', 'Mansoor', '51', '30', '70'],\n",
       " ['109', 'Zain', '52', '31', '71'],\n",
       " ['110', 'Mohsin', '53', '67', '72'],\n",
       " ['111', 'Shahmeer', '54', '68', '73'],\n",
       " ['112', 'Rao', '55', '69', '74'],\n",
       " ['113', 'Aurangzeb', '56', '70', '75'],\n",
       " ['114', 'Zeeshan', '57', '71', '76'],\n",
       " ['115', 'Hamna', '58', '72', '77'],\n",
       " ['116', 'Hamza', '59', '73', '78'],\n",
       " ['117', 'Khalid', '60', '74', '79'],\n",
       " ['118', 'Behroz', '61', '75', '80'],\n",
       " ['119', 'Justin', '62', '76', '81'],\n",
       " ['120', 'Danish', '63', '77', '82'],\n",
       " ['121', 'Kainat', '64', '78', '83'],\n",
       " ['122', 'Sameer', '65', '79', '84'],\n",
       " ['123', 'Raza', '66', '80', '85'],\n",
       " ['124', 'Kumar', '67', '81', '86'],\n",
       " ['125', 'Komal', '68', '82', '87'],\n",
       " ['126', 'Erum', '69', '83', '88'],\n",
       " ['127', 'Faiza', '70', '84', '89'],\n",
       " ['128', 'Saeed', '71', '85', '90'],\n",
       " ['129', 'Waqar', '72', '86', '91'],\n",
       " ['130', 'Wali', '73', '87', '92'],\n",
       " ['131', 'Wajid', '74', '88', '93'],\n",
       " ['132', 'Waseeb', '75', '89', '94'],\n",
       " ['133', 'Shiza', '76', '90', '95'],\n",
       " ['134', 'Shabina', '77', '91', '96'],\n",
       " ['135', 'Shazain', '78', '55', '97'],\n",
       " ['136', 'Lubna', '79', '61', '98'],\n",
       " ['137', 'Laiba', '80', '88', '78'],\n",
       " ['138', 'Khursheed', '81', '56', '45'],\n",
       " ['139', 'Ali', '82', '89', '46'],\n",
       " ['140', 'Aiza', '83', '45', '89'],\n",
       " ['141', 'Aiman', '84', '92', '78'],\n",
       " ['142', 'Yasmeen', '85', '36', '56'],\n",
       " ['143', 'Tasbeel', '86', '78', '78'],\n",
       " ['144', 'Laraib', '87', '56', '54'],\n",
       " ['145', 'Saleem', '88', '78', '78'],\n",
       " ['146', 'Bismil', '89', '89', '46'],\n",
       " ['147', 'Batool', '90', '56', '79'],\n",
       " ['148', 'Iqra', '91', '33', '46'],\n",
       " ['149', 'Zarnish', '92', '78', '45'],\n",
       " ['150', 'Zara', '83', '45', '56']]"
      ]
     },
     "execution_count": 7,
     "metadata": {},
     "output_type": "execute_result"
    }
   ],
   "source": [
    "data = list(read)\n",
    "data "
   ]
  },
  {
   "cell_type": "code",
   "execution_count": 9,
   "id": "e2260cb0-3115-4fe4-9e94-23c65ee8ba88",
   "metadata": {},
   "outputs": [
    {
     "data": {
      "text/plain": [
       "['roll no', 'Name', 'Chemistry', 'Physics', 'Math']"
      ]
     },
     "execution_count": 9,
     "metadata": {},
     "output_type": "execute_result"
    }
   ],
   "source": [
    "header = data[0]\n",
    "header"
   ]
  },
  {
   "cell_type": "code",
   "execution_count": null,
   "id": "8ce3830f-24c0-4ef9-8466-6331d53a8d29",
   "metadata": {},
   "outputs": [],
   "source": [
    "header.append('percentage')\n",
    "header"
   ]
  },
  {
   "cell_type": "code",
   "execution_count": 11,
   "id": "cb22a0db-0ed6-4b68-8f58-1da9a5040728",
   "metadata": {},
   "outputs": [
    {
     "data": {
      "text/plain": [
       "[['101', 'Aliza', '50', '23', '87'],\n",
       " ['102', 'Fareed', '45', '24', '88'],\n",
       " ['103', 'Basit', '46', '25', '89'],\n",
       " ['104', 'Abdullah', '47', '26', '90'],\n",
       " ['105', 'Ali', '48', '27', '67'],\n",
       " ['106', 'Mubashir', '49', '28', '68'],\n",
       " ['107', 'Waleed', '50', '29', '69'],\n",
       " ['108', 'Mansoor', '51', '30', '70'],\n",
       " ['109', 'Zain', '52', '31', '71'],\n",
       " ['110', 'Mohsin', '53', '67', '72'],\n",
       " ['111', 'Shahmeer', '54', '68', '73'],\n",
       " ['112', 'Rao', '55', '69', '74'],\n",
       " ['113', 'Aurangzeb', '56', '70', '75'],\n",
       " ['114', 'Zeeshan', '57', '71', '76'],\n",
       " ['115', 'Hamna', '58', '72', '77'],\n",
       " ['116', 'Hamza', '59', '73', '78'],\n",
       " ['117', 'Khalid', '60', '74', '79'],\n",
       " ['118', 'Behroz', '61', '75', '80'],\n",
       " ['119', 'Justin', '62', '76', '81'],\n",
       " ['120', 'Danish', '63', '77', '82'],\n",
       " ['121', 'Kainat', '64', '78', '83'],\n",
       " ['122', 'Sameer', '65', '79', '84'],\n",
       " ['123', 'Raza', '66', '80', '85'],\n",
       " ['124', 'Kumar', '67', '81', '86'],\n",
       " ['125', 'Komal', '68', '82', '87'],\n",
       " ['126', 'Erum', '69', '83', '88'],\n",
       " ['127', 'Faiza', '70', '84', '89'],\n",
       " ['128', 'Saeed', '71', '85', '90'],\n",
       " ['129', 'Waqar', '72', '86', '91'],\n",
       " ['130', 'Wali', '73', '87', '92'],\n",
       " ['131', 'Wajid', '74', '88', '93'],\n",
       " ['132', 'Waseeb', '75', '89', '94'],\n",
       " ['133', 'Shiza', '76', '90', '95'],\n",
       " ['134', 'Shabina', '77', '91', '96'],\n",
       " ['135', 'Shazain', '78', '55', '97'],\n",
       " ['136', 'Lubna', '79', '61', '98'],\n",
       " ['137', 'Laiba', '80', '88', '78'],\n",
       " ['138', 'Khursheed', '81', '56', '45'],\n",
       " ['139', 'Ali', '82', '89', '46'],\n",
       " ['140', 'Aiza', '83', '45', '89'],\n",
       " ['141', 'Aiman', '84', '92', '78'],\n",
       " ['142', 'Yasmeen', '85', '36', '56'],\n",
       " ['143', 'Tasbeel', '86', '78', '78'],\n",
       " ['144', 'Laraib', '87', '56', '54'],\n",
       " ['145', 'Saleem', '88', '78', '78'],\n",
       " ['146', 'Bismil', '89', '89', '46'],\n",
       " ['147', 'Batool', '90', '56', '79'],\n",
       " ['148', 'Iqra', '91', '33', '46'],\n",
       " ['149', 'Zarnish', '92', '78', '45'],\n",
       " ['150', 'Zara', '83', '45', '56']]"
      ]
     },
     "execution_count": 11,
     "metadata": {},
     "output_type": "execute_result"
    }
   ],
   "source": [
    "student_data = data[1 :]\n",
    "student_data"
   ]
  },
  {
   "cell_type": "code",
   "execution_count": 13,
   "id": "32cc52d8-c3a4-4e2e-bb66-2c5d282f2502",
   "metadata": {},
   "outputs": [
    {
     "name": "stdout",
     "output_type": "stream",
     "text": [
      "3421.0\n"
     ]
    },
    {
     "data": {
      "text/plain": [
       "68.42"
      ]
     },
     "execution_count": 13,
     "metadata": {},
     "output_type": "execute_result"
    }
   ],
   "source": [
    "chem_marks = []\n",
    "for i in student_data:\n",
    "    chem_marks.append(float(i[2]))\n",
    "print(sum(chem_marks))\n",
    "avg_chem_marks = sum(chem_marks)/ len(chem_marks)\n",
    "avg_chem_marks"
   ]
  },
  {
   "cell_type": "code",
   "execution_count": 15,
   "id": "b389c392-78c6-4aa0-be07-9de51fdf81ba",
   "metadata": {},
   "outputs": [
    {
     "name": "stdout",
     "output_type": "stream",
     "text": [
      "3253.0\n"
     ]
    },
    {
     "data": {
      "text/plain": [
       "65.06"
      ]
     },
     "execution_count": 15,
     "metadata": {},
     "output_type": "execute_result"
    }
   ],
   "source": [
    "phy_marks = []\n",
    "for i in student_data:\n",
    "    phy_marks.append(float(i[3]))\n",
    "print(sum(phy_marks))\n",
    "avg_phy_marks = sum(phy_marks)/ len(phy_marks)\n",
    "avg_phy_marks"
   ]
  },
  {
   "cell_type": "code",
   "execution_count": 17,
   "id": "bb5b2b44-66eb-4310-86ad-86a48afe7829",
   "metadata": {},
   "outputs": [
    {
     "name": "stdout",
     "output_type": "stream",
     "text": [
      "3868.0\n"
     ]
    },
    {
     "data": {
      "text/plain": [
       "77.36"
      ]
     },
     "execution_count": 17,
     "metadata": {},
     "output_type": "execute_result"
    }
   ],
   "source": [
    "math_marks = []\n",
    "for i in student_data:\n",
    "    math_marks.append(float(i[4]))\n",
    "print(sum(math_marks))\n",
    "avg_math_marks = sum(math_marks)/ len(math_marks)\n",
    "avg_math_marks"
   ]
  },
  {
   "cell_type": "code",
   "execution_count": 19,
   "id": "b8c67856-3cee-4cf3-9f80-e658b8fb8266",
   "metadata": {},
   "outputs": [
    {
     "data": {
      "text/plain": [
       "[['101', 'Aliza', '50', '23', '87'],\n",
       " ['102', 'Fareed', '45', '24', '88'],\n",
       " ['103', 'Basit', '46', '25', '89'],\n",
       " ['104', 'Abdullah', '47', '26', '90'],\n",
       " ['105', 'Ali', '48', '27', '67'],\n",
       " ['106', 'Mubashir', '49', '28', '68'],\n",
       " ['107', 'Waleed', '50', '29', '69'],\n",
       " ['108', 'Mansoor', '51', '30', '70'],\n",
       " ['109', 'Zain', '52', '31', '71'],\n",
       " ['110', 'Mohsin', '53', '67', '72'],\n",
       " ['111', 'Shahmeer', '54', '68', '73'],\n",
       " ['112', 'Rao', '55', '69', '74'],\n",
       " ['113', 'Aurangzeb', '56', '70', '75'],\n",
       " ['114', 'Zeeshan', '57', '71', '76'],\n",
       " ['115', 'Hamna', '58', '72', '77'],\n",
       " ['116', 'Hamza', '59', '73', '78'],\n",
       " ['117', 'Khalid', '60', '74', '79'],\n",
       " ['118', 'Behroz', '61', '75', '80'],\n",
       " ['119', 'Justin', '62', '76', '81'],\n",
       " ['120', 'Danish', '63', '77', '82'],\n",
       " ['121', 'Kainat', '64', '78', '83'],\n",
       " ['122', 'Sameer', '65', '79', '84'],\n",
       " ['123', 'Raza', '66', '80', '85'],\n",
       " ['124', 'Kumar', '67', '81', '86'],\n",
       " ['125', 'Komal', '68', '82', '87'],\n",
       " ['126', 'Erum', '69', '83', '88'],\n",
       " ['127', 'Faiza', '70', '84', '89'],\n",
       " ['128', 'Saeed', '71', '85', '90'],\n",
       " ['129', 'Waqar', '72', '86', '91'],\n",
       " ['130', 'Wali', '73', '87', '92'],\n",
       " ['131', 'Wajid', '74', '88', '93'],\n",
       " ['132', 'Waseeb', '75', '89', '94'],\n",
       " ['133', 'Shiza', '76', '90', '95'],\n",
       " ['134', 'Shabina', '77', '91', '96'],\n",
       " ['135', 'Shazain', '78', '55', '97'],\n",
       " ['136', 'Lubna', '79', '61', '98'],\n",
       " ['137', 'Laiba', '80', '88', '78'],\n",
       " ['138', 'Khursheed', '81', '56', '45'],\n",
       " ['139', 'Ali', '82', '89', '46'],\n",
       " ['140', 'Aiza', '83', '45', '89'],\n",
       " ['141', 'Aiman', '84', '92', '78'],\n",
       " ['142', 'Yasmeen', '85', '36', '56'],\n",
       " ['143', 'Tasbeel', '86', '78', '78'],\n",
       " ['144', 'Laraib', '87', '56', '54'],\n",
       " ['145', 'Saleem', '88', '78', '78'],\n",
       " ['146', 'Bismil', '89', '89', '46'],\n",
       " ['147', 'Batool', '90', '56', '79'],\n",
       " ['148', 'Iqra', '91', '33', '46'],\n",
       " ['149', 'Zarnish', '92', '78', '45'],\n",
       " ['150', 'Zara', '83', '45', '56']]"
      ]
     },
     "execution_count": 19,
     "metadata": {},
     "output_type": "execute_result"
    }
   ],
   "source": [
    "student_data"
   ]
  },
  {
   "cell_type": "code",
   "execution_count": 21,
   "id": "8013bad5-3a33-4dc1-a694-84ecc4609549",
   "metadata": {},
   "outputs": [],
   "source": [
    "for per in student_data:\n",
    "    chem = int(per[2])\n",
    "    phy = int(per[3])\n",
    "    math = int(per[4])\n",
    "    percentage = round((chem+phy+math)/300*100,1)\n",
    "    per.append(percentage)"
   ]
  },
  {
   "cell_type": "code",
   "execution_count": 23,
   "id": "5672cc12-5e80-45f6-9e49-dfadaea9c719",
   "metadata": {},
   "outputs": [],
   "source": [
    "data[0].append('Percentage')"
   ]
  },
  {
   "cell_type": "code",
   "execution_count": 25,
   "id": "c56bdd03-c147-46d9-bc5e-4b448e76c852",
   "metadata": {},
   "outputs": [
    {
     "data": {
      "text/plain": [
       "[['roll no', 'Name', 'Chemistry', 'Physics', 'Math', 'Percentage'],\n",
       " ['101', 'Aliza', '50', '23', '87', 53.3],\n",
       " ['102', 'Fareed', '45', '24', '88', 52.3],\n",
       " ['103', 'Basit', '46', '25', '89', 53.3],\n",
       " ['104', 'Abdullah', '47', '26', '90', 54.3],\n",
       " ['105', 'Ali', '48', '27', '67', 47.3],\n",
       " ['106', 'Mubashir', '49', '28', '68', 48.3],\n",
       " ['107', 'Waleed', '50', '29', '69', 49.3],\n",
       " ['108', 'Mansoor', '51', '30', '70', 50.3],\n",
       " ['109', 'Zain', '52', '31', '71', 51.3],\n",
       " ['110', 'Mohsin', '53', '67', '72', 64.0],\n",
       " ['111', 'Shahmeer', '54', '68', '73', 65.0],\n",
       " ['112', 'Rao', '55', '69', '74', 66.0],\n",
       " ['113', 'Aurangzeb', '56', '70', '75', 67.0],\n",
       " ['114', 'Zeeshan', '57', '71', '76', 68.0],\n",
       " ['115', 'Hamna', '58', '72', '77', 69.0],\n",
       " ['116', 'Hamza', '59', '73', '78', 70.0],\n",
       " ['117', 'Khalid', '60', '74', '79', 71.0],\n",
       " ['118', 'Behroz', '61', '75', '80', 72.0],\n",
       " ['119', 'Justin', '62', '76', '81', 73.0],\n",
       " ['120', 'Danish', '63', '77', '82', 74.0],\n",
       " ['121', 'Kainat', '64', '78', '83', 75.0],\n",
       " ['122', 'Sameer', '65', '79', '84', 76.0],\n",
       " ['123', 'Raza', '66', '80', '85', 77.0],\n",
       " ['124', 'Kumar', '67', '81', '86', 78.0],\n",
       " ['125', 'Komal', '68', '82', '87', 79.0],\n",
       " ['126', 'Erum', '69', '83', '88', 80.0],\n",
       " ['127', 'Faiza', '70', '84', '89', 81.0],\n",
       " ['128', 'Saeed', '71', '85', '90', 82.0],\n",
       " ['129', 'Waqar', '72', '86', '91', 83.0],\n",
       " ['130', 'Wali', '73', '87', '92', 84.0],\n",
       " ['131', 'Wajid', '74', '88', '93', 85.0],\n",
       " ['132', 'Waseeb', '75', '89', '94', 86.0],\n",
       " ['133', 'Shiza', '76', '90', '95', 87.0],\n",
       " ['134', 'Shabina', '77', '91', '96', 88.0],\n",
       " ['135', 'Shazain', '78', '55', '97', 76.7],\n",
       " ['136', 'Lubna', '79', '61', '98', 79.3],\n",
       " ['137', 'Laiba', '80', '88', '78', 82.0],\n",
       " ['138', 'Khursheed', '81', '56', '45', 60.7],\n",
       " ['139', 'Ali', '82', '89', '46', 72.3],\n",
       " ['140', 'Aiza', '83', '45', '89', 72.3],\n",
       " ['141', 'Aiman', '84', '92', '78', 84.7],\n",
       " ['142', 'Yasmeen', '85', '36', '56', 59.0],\n",
       " ['143', 'Tasbeel', '86', '78', '78', 80.7],\n",
       " ['144', 'Laraib', '87', '56', '54', 65.7],\n",
       " ['145', 'Saleem', '88', '78', '78', 81.3],\n",
       " ['146', 'Bismil', '89', '89', '46', 74.7],\n",
       " ['147', 'Batool', '90', '56', '79', 75.0],\n",
       " ['148', 'Iqra', '91', '33', '46', 56.7],\n",
       " ['149', 'Zarnish', '92', '78', '45', 71.7],\n",
       " ['150', 'Zara', '83', '45', '56', 61.3]]"
      ]
     },
     "execution_count": 25,
     "metadata": {},
     "output_type": "execute_result"
    }
   ],
   "source": [
    "data"
   ]
  },
  {
   "cell_type": "code",
   "execution_count": 27,
   "id": "c9037243-8d4a-43ed-bd1c-7c311e114683",
   "metadata": {},
   "outputs": [
    {
     "data": {
      "text/plain": [
       "<_io.TextIOWrapper name='data1.csv' mode='w' encoding='cp1252'>"
      ]
     },
     "execution_count": 27,
     "metadata": {},
     "output_type": "execute_result"
    }
   ],
   "source": [
    "open_file = open('data1.csv', mode = 'w', newline = '')\n",
    "open_file"
   ]
  },
  {
   "cell_type": "code",
   "execution_count": 29,
   "id": "f71d51f4-1d4c-4de0-9d79-41083217cd33",
   "metadata": {},
   "outputs": [
    {
     "data": {
      "text/plain": [
       "<_csv.writer at 0x297bb00b700>"
      ]
     },
     "execution_count": 29,
     "metadata": {},
     "output_type": "execute_result"
    }
   ],
   "source": [
    "writer = csv.writer(open_file)\n",
    "writer"
   ]
  },
  {
   "cell_type": "code",
   "execution_count": 31,
   "id": "a4d9dacf-33f1-48ed-92f9-4964f58c9496",
   "metadata": {},
   "outputs": [],
   "source": [
    "writer.writerows(data)"
   ]
  },
  {
   "cell_type": "code",
   "execution_count": 33,
   "id": "e761da2f-5d0a-40c9-936b-e17db62fe773",
   "metadata": {},
   "outputs": [],
   "source": [
    "open_file.close()"
   ]
  },
  {
   "cell_type": "code",
   "execution_count": null,
   "id": "5df21c5f-482a-4294-9f2d-5d93fe7e650e",
   "metadata": {},
   "outputs": [],
   "source": []
  }
 ],
 "metadata": {
  "kernelspec": {
   "display_name": "Python 3 (ipykernel)",
   "language": "python",
   "name": "python3"
  },
  "language_info": {
   "codemirror_mode": {
    "name": "ipython",
    "version": 3
   },
   "file_extension": ".py",
   "mimetype": "text/x-python",
   "name": "python",
   "nbconvert_exporter": "python",
   "pygments_lexer": "ipython3",
   "version": "3.12.4"
  }
 },
 "nbformat": 4,
 "nbformat_minor": 5
}
